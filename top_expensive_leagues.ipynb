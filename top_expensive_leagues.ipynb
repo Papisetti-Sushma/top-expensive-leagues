{
 "cells": [
  {
   "cell_type": "code",
   "execution_count": 1,
   "id": "c4c93c53-158b-4eec-99c8-c50c331c87ab",
   "metadata": {},
   "outputs": [],
   "source": [
    "import numpy as np\n",
    "import pandas as pd\n",
    "import matplotlib.pyplot as plt\n",
    "import seaborn as sns"
   ]
  },
  {
   "cell_type": "code",
   "execution_count": 3,
   "id": "13686805-962a-46d0-8124-50edb0dbb9c5",
   "metadata": {},
   "outputs": [],
   "source": [
    "df=pd.read_csv(r\"top_expensive_leagues.csv\")"
   ]
  },
  {
   "cell_type": "code",
   "execution_count": 5,
   "id": "626b46ab-36d7-4e08-9ed1-922e29a337ce",
   "metadata": {},
   "outputs": [
    {
     "data": {
      "text/html": [
       "<div>\n",
       "<style scoped>\n",
       "    .dataframe tbody tr th:only-of-type {\n",
       "        vertical-align: middle;\n",
       "    }\n",
       "\n",
       "    .dataframe tbody tr th {\n",
       "        vertical-align: top;\n",
       "    }\n",
       "\n",
       "    .dataframe thead th {\n",
       "        text-align: right;\n",
       "    }\n",
       "</style>\n",
       "<table border=\"1\" class=\"dataframe\">\n",
       "  <thead>\n",
       "    <tr style=\"text-align: right;\">\n",
       "      <th></th>\n",
       "      <th>League ID</th>\n",
       "      <th>League Name</th>\n",
       "      <th>Country</th>\n",
       "      <th>Sport</th>\n",
       "      <th>Revenue (USD)</th>\n",
       "      <th>Average Player Salary (USD)</th>\n",
       "      <th>Top Team</th>\n",
       "      <th>Total Teams</th>\n",
       "      <th>Founded Year</th>\n",
       "      <th>Viewership</th>\n",
       "    </tr>\n",
       "  </thead>\n",
       "  <tbody>\n",
       "    <tr>\n",
       "      <th>0</th>\n",
       "      <td>L001</td>\n",
       "      <td>Premier League</td>\n",
       "      <td>England</td>\n",
       "      <td>Football</td>\n",
       "      <td>5.275330e+09</td>\n",
       "      <td>12080000.0</td>\n",
       "      <td>Liverpool</td>\n",
       "      <td>16</td>\n",
       "      <td>1886</td>\n",
       "      <td>485.90</td>\n",
       "    </tr>\n",
       "    <tr>\n",
       "      <th>1</th>\n",
       "      <td>L002</td>\n",
       "      <td>Serie A</td>\n",
       "      <td>India</td>\n",
       "      <td>American Football</td>\n",
       "      <td>7.088640e+09</td>\n",
       "      <td>6730000.0</td>\n",
       "      <td>Inter Milan</td>\n",
       "      <td>13</td>\n",
       "      <td>1977</td>\n",
       "      <td>135.01</td>\n",
       "    </tr>\n",
       "    <tr>\n",
       "      <th>2</th>\n",
       "      <td>L003</td>\n",
       "      <td>IPL</td>\n",
       "      <td>England</td>\n",
       "      <td>American Football</td>\n",
       "      <td>7.930520e+09</td>\n",
       "      <td>14360000.0</td>\n",
       "      <td>Chennai Super Kings</td>\n",
       "      <td>13</td>\n",
       "      <td>1979</td>\n",
       "      <td>157.49</td>\n",
       "    </tr>\n",
       "    <tr>\n",
       "      <th>3</th>\n",
       "      <td>L004</td>\n",
       "      <td>La Liga</td>\n",
       "      <td>Spain</td>\n",
       "      <td>American Football</td>\n",
       "      <td>4.972890e+09</td>\n",
       "      <td>13720000.0</td>\n",
       "      <td>Atletico Madrid</td>\n",
       "      <td>22</td>\n",
       "      <td>1999</td>\n",
       "      <td>245.71</td>\n",
       "    </tr>\n",
       "    <tr>\n",
       "      <th>4</th>\n",
       "      <td>L005</td>\n",
       "      <td>Serie A</td>\n",
       "      <td>Italy</td>\n",
       "      <td>Basketball</td>\n",
       "      <td>6.265740e+09</td>\n",
       "      <td>7450000.0</td>\n",
       "      <td>Juventus</td>\n",
       "      <td>16</td>\n",
       "      <td>1963</td>\n",
       "      <td>52.83</td>\n",
       "    </tr>\n",
       "  </tbody>\n",
       "</table>\n",
       "</div>"
      ],
      "text/plain": [
       "  League ID     League Name  Country              Sport  Revenue (USD)  \\\n",
       "0      L001  Premier League  England           Football   5.275330e+09   \n",
       "1      L002         Serie A    India  American Football   7.088640e+09   \n",
       "2      L003             IPL  England  American Football   7.930520e+09   \n",
       "3      L004         La Liga    Spain  American Football   4.972890e+09   \n",
       "4      L005         Serie A    Italy         Basketball   6.265740e+09   \n",
       "\n",
       "   Average Player Salary (USD)             Top Team  Total Teams  \\\n",
       "0                   12080000.0            Liverpool           16   \n",
       "1                    6730000.0          Inter Milan           13   \n",
       "2                   14360000.0  Chennai Super Kings           13   \n",
       "3                   13720000.0      Atletico Madrid           22   \n",
       "4                    7450000.0             Juventus           16   \n",
       "\n",
       "   Founded Year  Viewership  \n",
       "0          1886      485.90  \n",
       "1          1977      135.01  \n",
       "2          1979      157.49  \n",
       "3          1999      245.71  \n",
       "4          1963       52.83  "
      ]
     },
     "execution_count": 5,
     "metadata": {},
     "output_type": "execute_result"
    }
   ],
   "source": [
    "df.head()"
   ]
  },
  {
   "cell_type": "code",
   "execution_count": 7,
   "id": "18bd8fc4-9494-4d79-9820-fd035f0a5ed4",
   "metadata": {},
   "outputs": [
    {
     "name": "stdout",
     "output_type": "stream",
     "text": [
      "<class 'pandas.core.frame.DataFrame'>\n",
      "RangeIndex: 700 entries, 0 to 699\n",
      "Data columns (total 10 columns):\n",
      " #   Column                       Non-Null Count  Dtype  \n",
      "---  ------                       --------------  -----  \n",
      " 0   League ID                    700 non-null    object \n",
      " 1   League Name                  700 non-null    object \n",
      " 2   Country                      700 non-null    object \n",
      " 3   Sport                        700 non-null    object \n",
      " 4   Revenue (USD)                700 non-null    float64\n",
      " 5   Average Player Salary (USD)  700 non-null    float64\n",
      " 6   Top Team                     700 non-null    object \n",
      " 7   Total Teams                  700 non-null    int64  \n",
      " 8   Founded Year                 700 non-null    int64  \n",
      " 9   Viewership                   700 non-null    float64\n",
      "dtypes: float64(3), int64(2), object(5)\n",
      "memory usage: 54.8+ KB\n"
     ]
    }
   ],
   "source": [
    "df.info()"
   ]
  },
  {
   "cell_type": "code",
   "execution_count": 9,
   "id": "6efbeeb8-256e-4b7e-9b07-64b0025b20a1",
   "metadata": {},
   "outputs": [
    {
     "data": {
      "text/html": [
       "<div>\n",
       "<style scoped>\n",
       "    .dataframe tbody tr th:only-of-type {\n",
       "        vertical-align: middle;\n",
       "    }\n",
       "\n",
       "    .dataframe tbody tr th {\n",
       "        vertical-align: top;\n",
       "    }\n",
       "\n",
       "    .dataframe thead th {\n",
       "        text-align: right;\n",
       "    }\n",
       "</style>\n",
       "<table border=\"1\" class=\"dataframe\">\n",
       "  <thead>\n",
       "    <tr style=\"text-align: right;\">\n",
       "      <th></th>\n",
       "      <th>Revenue (USD)</th>\n",
       "      <th>Average Player Salary (USD)</th>\n",
       "      <th>Total Teams</th>\n",
       "      <th>Founded Year</th>\n",
       "      <th>Viewership</th>\n",
       "    </tr>\n",
       "  </thead>\n",
       "  <tbody>\n",
       "    <tr>\n",
       "      <th>count</th>\n",
       "      <td>7.000000e+02</td>\n",
       "      <td>7.000000e+02</td>\n",
       "      <td>700.000000</td>\n",
       "      <td>700.000000</td>\n",
       "      <td>700.000000</td>\n",
       "    </tr>\n",
       "    <tr>\n",
       "      <th>mean</th>\n",
       "      <td>4.280496e+09</td>\n",
       "      <td>7.900443e+06</td>\n",
       "      <td>21.184286</td>\n",
       "      <td>1953.061429</td>\n",
       "      <td>255.944400</td>\n",
       "    </tr>\n",
       "    <tr>\n",
       "      <th>std</th>\n",
       "      <td>2.162867e+09</td>\n",
       "      <td>4.100048e+06</td>\n",
       "      <td>6.676591</td>\n",
       "      <td>40.956733</td>\n",
       "      <td>140.300158</td>\n",
       "    </tr>\n",
       "    <tr>\n",
       "      <th>min</th>\n",
       "      <td>5.054000e+08</td>\n",
       "      <td>1.010000e+06</td>\n",
       "      <td>10.000000</td>\n",
       "      <td>1880.000000</td>\n",
       "      <td>2.280000</td>\n",
       "    </tr>\n",
       "    <tr>\n",
       "      <th>25%</th>\n",
       "      <td>2.522775e+09</td>\n",
       "      <td>4.180000e+06</td>\n",
       "      <td>15.000000</td>\n",
       "      <td>1917.750000</td>\n",
       "      <td>135.077500</td>\n",
       "    </tr>\n",
       "    <tr>\n",
       "      <th>50%</th>\n",
       "      <td>4.306905e+09</td>\n",
       "      <td>7.835000e+06</td>\n",
       "      <td>21.000000</td>\n",
       "      <td>1953.500000</td>\n",
       "      <td>250.860000</td>\n",
       "    </tr>\n",
       "    <tr>\n",
       "      <th>75%</th>\n",
       "      <td>6.112678e+09</td>\n",
       "      <td>1.148500e+07</td>\n",
       "      <td>27.000000</td>\n",
       "      <td>1989.250000</td>\n",
       "      <td>376.512500</td>\n",
       "    </tr>\n",
       "    <tr>\n",
       "      <th>max</th>\n",
       "      <td>7.997000e+09</td>\n",
       "      <td>1.496000e+07</td>\n",
       "      <td>32.000000</td>\n",
       "      <td>2023.000000</td>\n",
       "      <td>499.950000</td>\n",
       "    </tr>\n",
       "  </tbody>\n",
       "</table>\n",
       "</div>"
      ],
      "text/plain": [
       "       Revenue (USD)  Average Player Salary (USD)  Total Teams  Founded Year  \\\n",
       "count   7.000000e+02                 7.000000e+02   700.000000    700.000000   \n",
       "mean    4.280496e+09                 7.900443e+06    21.184286   1953.061429   \n",
       "std     2.162867e+09                 4.100048e+06     6.676591     40.956733   \n",
       "min     5.054000e+08                 1.010000e+06    10.000000   1880.000000   \n",
       "25%     2.522775e+09                 4.180000e+06    15.000000   1917.750000   \n",
       "50%     4.306905e+09                 7.835000e+06    21.000000   1953.500000   \n",
       "75%     6.112678e+09                 1.148500e+07    27.000000   1989.250000   \n",
       "max     7.997000e+09                 1.496000e+07    32.000000   2023.000000   \n",
       "\n",
       "       Viewership  \n",
       "count  700.000000  \n",
       "mean   255.944400  \n",
       "std    140.300158  \n",
       "min      2.280000  \n",
       "25%    135.077500  \n",
       "50%    250.860000  \n",
       "75%    376.512500  \n",
       "max    499.950000  "
      ]
     },
     "execution_count": 9,
     "metadata": {},
     "output_type": "execute_result"
    }
   ],
   "source": [
    "df.describe()"
   ]
  },
  {
   "cell_type": "code",
   "execution_count": 19,
   "id": "b99223ea-f7bb-4266-b413-ab14da432d5e",
   "metadata": {},
   "outputs": [
    {
     "data": {
      "text/plain": [
       "(700, 10)"
      ]
     },
     "execution_count": 19,
     "metadata": {},
     "output_type": "execute_result"
    }
   ],
   "source": [
    "df.shape"
   ]
  },
  {
   "cell_type": "code",
   "execution_count": 21,
   "id": "3a45aaf8-aa26-4391-822b-fe7284712aa4",
   "metadata": {},
   "outputs": [
    {
     "data": {
      "text/html": [
       "<div>\n",
       "<style scoped>\n",
       "    .dataframe tbody tr th:only-of-type {\n",
       "        vertical-align: middle;\n",
       "    }\n",
       "\n",
       "    .dataframe tbody tr th {\n",
       "        vertical-align: top;\n",
       "    }\n",
       "\n",
       "    .dataframe thead th {\n",
       "        text-align: right;\n",
       "    }\n",
       "</style>\n",
       "<table border=\"1\" class=\"dataframe\">\n",
       "  <thead>\n",
       "    <tr style=\"text-align: right;\">\n",
       "      <th></th>\n",
       "      <th>League ID</th>\n",
       "      <th>League Name</th>\n",
       "      <th>Country</th>\n",
       "      <th>Sport</th>\n",
       "      <th>Revenue (USD)</th>\n",
       "      <th>Average Player Salary (USD)</th>\n",
       "      <th>Top Team</th>\n",
       "      <th>Total Teams</th>\n",
       "      <th>Founded Year</th>\n",
       "      <th>Viewership</th>\n",
       "    </tr>\n",
       "  </thead>\n",
       "  <tbody>\n",
       "    <tr>\n",
       "      <th>0</th>\n",
       "      <td>False</td>\n",
       "      <td>False</td>\n",
       "      <td>False</td>\n",
       "      <td>False</td>\n",
       "      <td>False</td>\n",
       "      <td>False</td>\n",
       "      <td>False</td>\n",
       "      <td>False</td>\n",
       "      <td>False</td>\n",
       "      <td>False</td>\n",
       "    </tr>\n",
       "    <tr>\n",
       "      <th>1</th>\n",
       "      <td>False</td>\n",
       "      <td>False</td>\n",
       "      <td>False</td>\n",
       "      <td>False</td>\n",
       "      <td>False</td>\n",
       "      <td>False</td>\n",
       "      <td>False</td>\n",
       "      <td>False</td>\n",
       "      <td>False</td>\n",
       "      <td>False</td>\n",
       "    </tr>\n",
       "    <tr>\n",
       "      <th>2</th>\n",
       "      <td>False</td>\n",
       "      <td>False</td>\n",
       "      <td>False</td>\n",
       "      <td>False</td>\n",
       "      <td>False</td>\n",
       "      <td>False</td>\n",
       "      <td>False</td>\n",
       "      <td>False</td>\n",
       "      <td>False</td>\n",
       "      <td>False</td>\n",
       "    </tr>\n",
       "    <tr>\n",
       "      <th>3</th>\n",
       "      <td>False</td>\n",
       "      <td>False</td>\n",
       "      <td>False</td>\n",
       "      <td>False</td>\n",
       "      <td>False</td>\n",
       "      <td>False</td>\n",
       "      <td>False</td>\n",
       "      <td>False</td>\n",
       "      <td>False</td>\n",
       "      <td>False</td>\n",
       "    </tr>\n",
       "    <tr>\n",
       "      <th>4</th>\n",
       "      <td>False</td>\n",
       "      <td>False</td>\n",
       "      <td>False</td>\n",
       "      <td>False</td>\n",
       "      <td>False</td>\n",
       "      <td>False</td>\n",
       "      <td>False</td>\n",
       "      <td>False</td>\n",
       "      <td>False</td>\n",
       "      <td>False</td>\n",
       "    </tr>\n",
       "    <tr>\n",
       "      <th>...</th>\n",
       "      <td>...</td>\n",
       "      <td>...</td>\n",
       "      <td>...</td>\n",
       "      <td>...</td>\n",
       "      <td>...</td>\n",
       "      <td>...</td>\n",
       "      <td>...</td>\n",
       "      <td>...</td>\n",
       "      <td>...</td>\n",
       "      <td>...</td>\n",
       "    </tr>\n",
       "    <tr>\n",
       "      <th>695</th>\n",
       "      <td>False</td>\n",
       "      <td>False</td>\n",
       "      <td>False</td>\n",
       "      <td>False</td>\n",
       "      <td>False</td>\n",
       "      <td>False</td>\n",
       "      <td>False</td>\n",
       "      <td>False</td>\n",
       "      <td>False</td>\n",
       "      <td>False</td>\n",
       "    </tr>\n",
       "    <tr>\n",
       "      <th>696</th>\n",
       "      <td>False</td>\n",
       "      <td>False</td>\n",
       "      <td>False</td>\n",
       "      <td>False</td>\n",
       "      <td>False</td>\n",
       "      <td>False</td>\n",
       "      <td>False</td>\n",
       "      <td>False</td>\n",
       "      <td>False</td>\n",
       "      <td>False</td>\n",
       "    </tr>\n",
       "    <tr>\n",
       "      <th>697</th>\n",
       "      <td>False</td>\n",
       "      <td>False</td>\n",
       "      <td>False</td>\n",
       "      <td>False</td>\n",
       "      <td>False</td>\n",
       "      <td>False</td>\n",
       "      <td>False</td>\n",
       "      <td>False</td>\n",
       "      <td>False</td>\n",
       "      <td>False</td>\n",
       "    </tr>\n",
       "    <tr>\n",
       "      <th>698</th>\n",
       "      <td>False</td>\n",
       "      <td>False</td>\n",
       "      <td>False</td>\n",
       "      <td>False</td>\n",
       "      <td>False</td>\n",
       "      <td>False</td>\n",
       "      <td>False</td>\n",
       "      <td>False</td>\n",
       "      <td>False</td>\n",
       "      <td>False</td>\n",
       "    </tr>\n",
       "    <tr>\n",
       "      <th>699</th>\n",
       "      <td>False</td>\n",
       "      <td>False</td>\n",
       "      <td>False</td>\n",
       "      <td>False</td>\n",
       "      <td>False</td>\n",
       "      <td>False</td>\n",
       "      <td>False</td>\n",
       "      <td>False</td>\n",
       "      <td>False</td>\n",
       "      <td>False</td>\n",
       "    </tr>\n",
       "  </tbody>\n",
       "</table>\n",
       "<p>700 rows × 10 columns</p>\n",
       "</div>"
      ],
      "text/plain": [
       "     League ID  League Name  Country  Sport  Revenue (USD)  \\\n",
       "0        False        False    False  False          False   \n",
       "1        False        False    False  False          False   \n",
       "2        False        False    False  False          False   \n",
       "3        False        False    False  False          False   \n",
       "4        False        False    False  False          False   \n",
       "..         ...          ...      ...    ...            ...   \n",
       "695      False        False    False  False          False   \n",
       "696      False        False    False  False          False   \n",
       "697      False        False    False  False          False   \n",
       "698      False        False    False  False          False   \n",
       "699      False        False    False  False          False   \n",
       "\n",
       "     Average Player Salary (USD)  Top Team  Total Teams  Founded Year  \\\n",
       "0                          False     False        False         False   \n",
       "1                          False     False        False         False   \n",
       "2                          False     False        False         False   \n",
       "3                          False     False        False         False   \n",
       "4                          False     False        False         False   \n",
       "..                           ...       ...          ...           ...   \n",
       "695                        False     False        False         False   \n",
       "696                        False     False        False         False   \n",
       "697                        False     False        False         False   \n",
       "698                        False     False        False         False   \n",
       "699                        False     False        False         False   \n",
       "\n",
       "     Viewership  \n",
       "0         False  \n",
       "1         False  \n",
       "2         False  \n",
       "3         False  \n",
       "4         False  \n",
       "..          ...  \n",
       "695       False  \n",
       "696       False  \n",
       "697       False  \n",
       "698       False  \n",
       "699       False  \n",
       "\n",
       "[700 rows x 10 columns]"
      ]
     },
     "execution_count": 21,
     "metadata": {},
     "output_type": "execute_result"
    }
   ],
   "source": [
    "df.isnull()"
   ]
  },
  {
   "cell_type": "code",
   "execution_count": 23,
   "id": "73d5f3d3-d5b2-41a3-b90c-c1a3551c2b70",
   "metadata": {},
   "outputs": [
    {
     "data": {
      "text/plain": [
       "League ID                      False\n",
       "League Name                    False\n",
       "Country                        False\n",
       "Sport                          False\n",
       "Revenue (USD)                  False\n",
       "Average Player Salary (USD)    False\n",
       "Top Team                       False\n",
       "Total Teams                    False\n",
       "Founded Year                   False\n",
       "Viewership                     False\n",
       "dtype: bool"
      ]
     },
     "execution_count": 23,
     "metadata": {},
     "output_type": "execute_result"
    }
   ],
   "source": [
    "df.isnull().any()"
   ]
  },
  {
   "cell_type": "markdown",
   "id": "3cadaad4-9e48-4a0e-a62e-96a453964160",
   "metadata": {},
   "source": [
    "# 1.Which league generates the highest revenue, and how does it compare with the average revenue of all leagues?\n"
   ]
  },
  {
   "cell_type": "code",
   "execution_count": 155,
   "id": "f913827a-51f7-4e99-82c3-4e9de8f0857b",
   "metadata": {},
   "outputs": [
    {
     "data": {
      "text/plain": [
       "League ID                                     L301\n",
       "League Name                                    IPL\n",
       "Country                                      Italy\n",
       "Sport                                      Cricket\n",
       "Revenue (USD)                         7997000000.0\n",
       "Average Player Salary (USD)              5670000.0\n",
       "Top Team                       Chennai Super Kings\n",
       "Total Teams                                     20\n",
       "Founded Year                                  1947\n",
       "Viewership                                  359.82\n",
       "Name: 300, dtype: object"
      ]
     },
     "execution_count": 155,
     "metadata": {},
     "output_type": "execute_result"
    }
   ],
   "source": [
    "df.loc[df['Revenue (USD)'].idxmax()]"
   ]
  },
  {
   "cell_type": "code",
   "execution_count": 153,
   "id": "413ff2b2-a793-4673-8dcb-975b19b32684",
   "metadata": {},
   "outputs": [
    {
     "name": "stdout",
     "output_type": "stream",
     "text": [
      "4280496485.714286\n"
     ]
    }
   ],
   "source": [
    "average_revenue = df['Revenue (USD)'].mean()\n",
    "print(average_revenue)"
   ]
  },
  {
   "cell_type": "markdown",
   "id": "3e6832dc-3538-442c-8ed9-ad600df80f9e",
   "metadata": {},
   "source": [
    " # 2) What is the correlation between average player salary and revenue across different leagues?"
   ]
  },
  {
   "cell_type": "code",
   "execution_count": 160,
   "id": "adf41fc4-6e52-4027-b6e2-e8fe638342ff",
   "metadata": {},
   "outputs": [
    {
     "name": "stdout",
     "output_type": "stream",
     "text": [
      "-0.017688946581012496\n"
     ]
    }
   ],
   "source": [
    "correlation = df['Revenue (USD)'].corr(df['Average Player Salary (USD)'])\n",
    "print(correlation)"
   ]
  },
  {
   "cell_type": "code",
   "execution_count": 166,
   "id": "340e914e-d875-4192-a30e-098bd5f6460c",
   "metadata": {},
   "outputs": [
    {
     "data": {
      "text/plain": [
       "<matplotlib.collections.PathCollection at 0x1f612e62ae0>"
      ]
     },
     "execution_count": 166,
     "metadata": {},
     "output_type": "execute_result"
    },
    {
     "data": {
      "image/png": "[encoded data removed]",
      "text/plain": [
       "<Figure size 640x480 with 1 Axes>"
      ]
     },
     "metadata": {},
     "output_type": "display_data"
    }
   ],
   "source": [
    "plt.scatter(x='Revenue (USD)', y='Average Player Salary (USD)',data=df)"
   ]
  },
  {
   "cell_type": "markdown",
   "id": "b637a564-a7f2-4aa4-9f9c-c4e1751247b5",
   "metadata": {},
   "source": [
    "- No correlation between revenue and average player salary"
   ]
  },
  {
   "cell_type": "markdown",
   "id": "853a256b-134a-47a4-9e60-0f0d0d5ea813",
   "metadata": {},
   "source": [
    "# 3) Which country has the highest number of leagues, and what is the distribution of sports across those leagues?\n"
   ]
  },
  {
   "cell_type": "code",
   "execution_count": 271,
   "id": "646bc248-4bf7-4c40-8326-3df0be58d364",
   "metadata": {},
   "outputs": [
    {
     "name": "stdout",
     "output_type": "stream",
     "text": [
      "England\n",
      "8\n"
     ]
    }
   ],
   "source": [
    "country_league_count = df.groupby('Country')['League Name'].nunique().sort_values(ascending=False)\n",
    "\n",
    "country_with_most_leagues = country_league_count.idxmax()\n",
    "highest_number_of_leagues = country_league_count.max()\n",
    "\n",
    "print(country_with_most_leagues)\n",
    "print(highest_number_of_leagues)"
   ]
  },
  {
   "cell_type": "code",
   "execution_count": 243,
   "id": "a6dc67c4-d722-47f9-889f-761f40bce80e",
   "metadata": {},
   "outputs": [
    {
     "data": {
      "text/plain": [
       "Sport\n",
       "American Football    8\n",
       "Basketball           8\n",
       "Cricket              8\n",
       "Football             8\n",
       "Name: League Name, dtype: int64"
      ]
     },
     "execution_count": 243,
     "metadata": {},
     "output_type": "execute_result"
    }
   ],
   "source": [
    "df.groupby('Sport')['League Name'].nunique().sort_values(ascending=False)"
   ]
  },
  {
   "cell_type": "markdown",
   "id": "cf8e2dd2-d3ac-4080-8910-380d07b409b8",
   "metadata": {},
   "source": [
    "# 4)How has the founding year of leagues influenced their viewership and revenue in modern times?\n"
   ]
  },
  {
   "cell_type": "code",
   "execution_count": 294,
   "id": "32b80208-9c96-4651-9739-d88e75a11178",
   "metadata": {},
   "outputs": [
    {
     "data": {
      "text/plain": [
       "-0.0006511718306314183"
      ]
     },
     "execution_count": 294,
     "metadata": {},
     "output_type": "execute_result"
    }
   ],
   "source": [
    "df['Founded Year'].corr(df['Viewership'])"
   ]
  },
  {
   "cell_type": "code",
   "execution_count": 286,
   "id": "57c7d38e-bce6-408c-9ac5-e26935887201",
   "metadata": {},
   "outputs": [
    {
     "data": {
      "text/plain": [
       "0.0480094743111019"
      ]
     },
     "execution_count": 286,
     "metadata": {},
     "output_type": "execute_result"
    }
   ],
   "source": [
    "df['Founded Year'].corr(df['Revenue (USD)'])"
   ]
  },
  {
   "cell_type": "markdown",
   "id": "ffcf0430-56ba-4a1b-9a9b-da49485ba858",
   "metadata": {},
   "source": [
    "- Founding Year of leagues has no influence on their viewership and revenue "
   ]
  },
  {
   "cell_type": "markdown",
   "id": "f5d4e18f-1d12-41fa-9bbe-2b2c33942c63",
   "metadata": {},
   "source": [
    "# 5) What is the average viewership of leagues grouped by sport type, and which sport has the highest average viewership?"
   ]
  },
  {
   "cell_type": "code",
   "execution_count": 343,
   "id": "3c1c9026-1a1e-4d38-bfff-64a515ac0ecf",
   "metadata": {},
   "outputs": [
    {
     "name": "stdout",
     "output_type": "stream",
     "text": [
      "Sport\n",
      "American Football    240.931636\n",
      "Basketball           242.329769\n",
      "Cricket              256.344368\n",
      "Football             281.278670\n",
      "Name: Viewership, dtype: float64\n"
     ]
    }
   ],
   "source": [
    "average_viewership_by_sport = df.groupby('Sport')['Viewership'].mean()\n",
    "print(average_viewership_by_sport)\n"
   ]
  },
  {
   "cell_type": "code",
   "execution_count": 345,
   "id": "781be2d2-89ee-49f6-a385-be8a5ae3790a",
   "metadata": {},
   "outputs": [
    {
     "name": "stdout",
     "output_type": "stream",
     "text": [
      "Sport\n",
      "Football             281.278670\n",
      "Cricket              256.344368\n",
      "Basketball           242.329769\n",
      "American Football    240.931636\n",
      "Name: Viewership, dtype: float64\n"
     ]
    }
   ],
   "source": [
    "average_viewership_by_sport = df.groupby('Sport')['Viewership'].mean().sort_values(ascending=False)\n",
    "print(average_viewership_by_sport)"
   ]
  },
  {
   "cell_type": "markdown",
   "id": "e68f8e30-2dfb-427a-8ac2-d3e81ce1e3d4",
   "metadata": {},
   "source": [
    "- Football has highest average viewership "
   ]
  },
  {
   "cell_type": "code",
   "execution_count": null,
   "id": "3658f6c1-ca6f-4738-a110-eb98cc2d40ac",
   "metadata": {},
   "outputs": [],
   "source": []
  }
 ],
 "metadata": {
  "kernelspec": {
   "display_name": "Python 3 (ipykernel)",
   "language": "python",
   "name": "python3"
  },
  "language_info": {
   "codemirror_mode": {
    "name": "ipython",
    "version": 3
   },
   "file_extension": ".py",
   "mimetype": "text/x-python",
   "name": "python",
   "nbconvert_exporter": "python",
   "pygments_lexer": "ipython3",
   "version": "3.12.4"
  }
 },
 "nbformat": 4,
 "nbformat_minor": 5
}
